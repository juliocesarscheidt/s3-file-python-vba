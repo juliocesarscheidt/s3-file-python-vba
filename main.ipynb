{
 "cells": [
  {
   "cell_type": "code",
   "execution_count": 2,
   "metadata": {},
   "outputs": [],
   "source": [
    "import os\n",
    "import json\n",
    "import boto3"
   ]
  },
  {
   "cell_type": "code",
   "execution_count": 4,
   "metadata": {},
   "outputs": [],
   "source": [
    "from boto3.session import Session\n",
    "from botocore.exceptions import ClientError"
   ]
  },
  {
   "cell_type": "code",
   "execution_count": 8,
   "metadata": {},
   "outputs": [],
   "source": [
    "REGION = os.environ.get('AWS_DEFAULT_REGION', 'sa-east-1')\n",
    "BUCKET_NAME = os.environ.get('BUCKET_NAME', 'bucket-s3-file-python-vba')"
   ]
  },
  {
   "cell_type": "code",
   "execution_count": 9,
   "metadata": {},
   "outputs": [],
   "source": [
    "session = Session(region_name=REGION)\n",
    "s3 = session.resource('s3')"
   ]
  },
  {
   "cell_type": "code",
   "execution_count": 12,
   "metadata": {},
   "outputs": [
    {
     "name": "stdout",
     "output_type": "stream",
     "text": [
      "O arquivo foi salvo\n"
     ]
    }
   ],
   "source": [
    "# download do arquivo\n",
    "try:\n",
    "    s3.Bucket(BUCKET_NAME).download_file('file.json', 'C:\\\\Users\\\\USERNAME\\\\Documents\\\\s3-file-python-vba\\\\file.json')\n",
    "    print(\"O arquivo foi salvo\")\n",
    "\n",
    "except ClientError as e:\n",
    "  if e.response['Error']['Code'] == \"404\":\n",
    "    print(\"O arquivo não existe\")\n",
    "  else:\n",
    "    raise"
   ]
  },
  {
   "cell_type": "code",
   "execution_count": 13,
   "metadata": {},
   "outputs": [
    {
     "name": "stdout",
     "output_type": "stream",
     "text": [
      "{'bitcoin': 267735.0}\n"
     ]
    }
   ],
   "source": [
    "# lê o arquivo\n",
    "with open(f\"./file.json\", \"r\") as file:\n",
    "  text = file.read()\n",
    "  print(json.loads(text))\n",
    "  file.close()"
   ]
  }
 ],
 "metadata": {
  "kernelspec": {
   "display_name": "Python 3",
   "language": "python",
   "name": "python3"
  },
  "language_info": {
   "codemirror_mode": {
    "name": "ipython",
    "version": 3
   },
   "file_extension": ".py",
   "mimetype": "text/x-python",
   "name": "python",
   "nbconvert_exporter": "python",
   "pygments_lexer": "ipython3",
   "version": "3.7.4"
  }
 },
 "nbformat": 4,
 "nbformat_minor": 2
}
